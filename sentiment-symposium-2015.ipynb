{
 "cells": [
  {
   "cell_type": "markdown",
   "metadata": {},
   "source": [
    "# Sentiment Symposium - Build a Sentiment Predictor in 5 Minutes in Python"
   ]
  },
  {
   "cell_type": "markdown",
   "metadata": {},
   "source": [
    "## Łukasz Augustyniak\n",
    "### Piotr Bródka\n",
    "e-Mail: <a href=\"mailto:lukasz.augustyniak@pwr.edu.pl\">lukasz.augustyniak@pwr.edu.pl</a><br>\n",
    "Twitter:  @<a href=\"https://twitter.com/luk_augustyniak\">luk_augustyniak</a><br>\n",
    "LinkedIn: <a href=\"https://pl.linkedin.com/in/lukaszaugustyniak\">Łukasz Augustyniak</a><br>\n",
    "GitHub: <a href=\"https://github.com/laugustyniak/sas2015\">laugustyniak</a><br>\n",
    "Ipython Notebook view: <a href=\"http://nbviewer.ipython.org/github/laugustyniak/sas2015/blob/master/sentiment-symposium-2015.ipynb\">SAS2015 Notebook</a>"
   ]
  },
  {
   "cell_type": "markdown",
   "metadata": {},
   "source": [
    "<img src=\"pwr.png\"><br>\n",
    "<div align=\"center\"><a href=\"http://www.portal.pwr.edu.pl/index,242.dhtml\">Wroclaw University of Technology</a></div>"
   ]
  },
  {
   "cell_type": "markdown",
   "metadata": {
    "collapsed": false
   },
   "source": [
    "## <div style=\"text-align: center\"> European research centre of Network intelliGence for INnovation Enhancement</div>\n",
    "\n",
    "<img src=\"engine.png\"><br>\n",
    "\n",
    "<div align=\"center\"><a href=\"http://engine.pwr.wroc.pl/en/\">ENGINE Centre</a></div>"
   ]
  },
  {
   "cell_type": "markdown",
   "metadata": {},
   "source": [
    "## Purpose of the presentation:"
   ]
  },
  {
   "cell_type": "markdown",
   "metadata": {},
   "source": [
    "- Learning by practice\n",
    "- Real example implementation\n",
    "- Using trained model for production"
   ]
  },
  {
   "cell_type": "markdown",
   "metadata": {},
   "source": [
    "# Why Python?"
   ]
  },
  {
   "cell_type": "markdown",
   "metadata": {},
   "source": [
    "- code <b>readability</b><br>\n",
    "- its syntax allows programmers to express concepts in <b>fewer lines of code</b> than C++ or Java<br>\n",
    "- really <b>strong open source community</b><br>\n",
    "- ideal for fast prototyping and <b>building models</b> (research)<br>"
   ]
  },
  {
   "cell_type": "markdown",
   "metadata": {},
   "source": [
    "# Why IPython Notebook?"
   ]
  },
  {
   "cell_type": "markdown",
   "metadata": {},
   "source": [
    "<a href=\"\"><b>The IPython Notebook</b></a> - is an interactive computational environment, in which you can combine code execution, rich text, mathematics, plots and rich media. Just like you see it now :) "
   ]
  },
  {
   "cell_type": "code",
   "execution_count": 7,
   "metadata": {
    "collapsed": true
   },
   "outputs": [],
   "source": [
    "sas2015 = 'Welcome at Sentiment Symposium'"
   ]
  },
  {
   "cell_type": "code",
   "execution_count": 8,
   "metadata": {
    "collapsed": false
   },
   "outputs": [
    {
     "name": "stdout",
     "output_type": "stream",
     "text": [
      "Welcome at Sentiment Symposium\n"
     ]
    }
   ],
   "source": [
    "print sas2015"
   ]
  },
  {
   "cell_type": "code",
   "execution_count": 9,
   "metadata": {
    "collapsed": false
   },
   "outputs": [
    {
     "data": {
      "text/plain": [
       "'Welcome at Sentiment Symposium 2015'"
      ]
     },
     "execution_count": 9,
     "metadata": {},
     "output_type": "execute_result"
    }
   ],
   "source": [
    "sas2015 + ' 2015'"
   ]
  },
  {
   "cell_type": "markdown",
   "metadata": {},
   "source": [
    "# How can I install Python and IPython Notebook?"
   ]
  },
  {
   "cell_type": "markdown",
   "metadata": {},
   "source": [
    "## Python's distribution - Anaconda"
   ]
  },
  {
   "cell_type": "markdown",
   "metadata": {},
   "source": [
    "Python interpreter with pre-installed libraries - <a href=\"http://continuum.io/downloads\"><b>Anaconda</b></a> - is a completely free Python distribution (including for commercial use and redistribution). It includes over <b>195 of the most popular Python packages for science, math, engineering, data analysis</b>. "
   ]
  },
  {
   "cell_type": "markdown",
   "metadata": {},
   "source": [
    "# Python's libraries "
   ]
  },
  {
   "cell_type": "markdown",
   "metadata": {},
   "source": [
    "## Scikit-Learn & Pandas"
   ]
  },
  {
   "cell_type": "markdown",
   "metadata": {},
   "source": [
    "<b><a href=\"http://scikit-learn.org/stable/\">scikit-learn - Machine Learning in Python</a></b><br>\n",
    "- Simple and efficient tools for data mining and data analysis\n",
    "- Accessible to everybody, and reusable in various contexts\n",
    "- Built on <b>NumPy, SciPy, and matplotlib</b>\n",
    "- <b>Open source</b>, commercially usable - BSD license\n",
    "<br>\n",
    "\n",
    "<b><a href=\"http://pandas.pydata.org/\">pandas - Python Data Analysis Library</a></b><br>\n",
    "- pandas is an open source, BSD-licensed library <b>providing high-performance, easy-to-use data structures and data analysis tools</b> for the Python programming language.<br>\n",
    "- great for loading and transforming data"
   ]
  },
  {
   "cell_type": "code",
   "execution_count": 10,
   "metadata": {
    "collapsed": true
   },
   "outputs": [],
   "source": [
    "import pandas as pd"
   ]
  },
  {
   "cell_type": "markdown",
   "metadata": {},
   "source": [
    "## Where is NTLK? "
   ]
  },
  {
   "cell_type": "markdown",
   "metadata": {},
   "source": [
    "Whole preprocessing and model creation is possible with <b>scikit-learn</b> library. "
   ]
  },
  {
   "cell_type": "markdown",
   "metadata": {},
   "source": [
    "<hr>\n",
    "# Load dataset with Pandas "
   ]
  },
  {
   "cell_type": "markdown",
   "metadata": {},
   "source": [
    "##Path for dataset"
   ]
  },
  {
   "cell_type": "code",
   "execution_count": 11,
   "metadata": {
    "collapsed": true
   },
   "outputs": [],
   "source": [
    "from os import path\n",
    "notebook_path = 'C:/Users/Dell/Documents/GitHub/Presentations/sas2015/'"
   ]
  },
  {
   "cell_type": "markdown",
   "metadata": {},
   "source": [
    "### SemEval 2014 dataset - http://alt.qcri.org/semeval2014/ \n",
    "approximately 6 000 of tweets with annotation negative/neutral/positive"
   ]
  },
  {
   "cell_type": "markdown",
   "metadata": {},
   "source": [
    "## Load data into Data Frame structure"
   ]
  },
  {
   "cell_type": "markdown",
   "metadata": {},
   "source": [
    "<b>Tabular data structure with labeled axes (rows and columns)</b>. <br><br>\n",
    "\n",
    "Arithmetic operations align on both row and column labels. The primary pandas data structure"
   ]
  },
  {
   "cell_type": "markdown",
   "metadata": {},
   "source": [
    "### Lovely one liner for data loading :)"
   ]
  },
  {
   "cell_type": "code",
   "execution_count": 12,
   "metadata": {
    "collapsed": false
   },
   "outputs": [],
   "source": [
    "data = pd.read_csv(path.join(notebook_path, 'data', 'SemEval-2014.csv'), index_col=0)"
   ]
  },
  {
   "cell_type": "code",
   "execution_count": 13,
   "metadata": {
    "collapsed": false
   },
   "outputs": [
    {
     "data": {
      "text/html": [
       "<div style=\"max-height:1000px;max-width:1500px;overflow:auto;\">\n",
       "<table border=\"1\" class=\"dataframe\">\n",
       "  <thead>\n",
       "    <tr style=\"text-align: right;\">\n",
       "      <th></th>\n",
       "      <th>sentiment</th>\n",
       "      <th>document</th>\n",
       "    </tr>\n",
       "  </thead>\n",
       "  <tbody>\n",
       "    <tr>\n",
       "      <th>0</th>\n",
       "      <td>3</td>\n",
       "      <td>Gas by my house hit $3.39!!!! I'm going to Cha...</td>\n",
       "    </tr>\n",
       "    <tr>\n",
       "      <th>1</th>\n",
       "      <td>1</td>\n",
       "      <td>Theo Walcott is still shit, watch Rafa and Joh...</td>\n",
       "    </tr>\n",
       "    <tr>\n",
       "      <th>2</th>\n",
       "      <td>1</td>\n",
       "      <td>its not that I'm a GSP fan, i just hate Nick D...</td>\n",
       "    </tr>\n",
       "    <tr>\n",
       "      <th>3</th>\n",
       "      <td>1</td>\n",
       "      <td>Iranian general says Israel's Iron Dome can't ...</td>\n",
       "    </tr>\n",
       "    <tr>\n",
       "      <th>4</th>\n",
       "      <td>3</td>\n",
       "      <td>with J Davlar 11th. Main rivals are team Polan...</td>\n",
       "    </tr>\n",
       "    <tr>\n",
       "      <th>5</th>\n",
       "      <td>1</td>\n",
       "      <td>Talking about ACT's &amp;&amp; SAT's, deciding where I...</td>\n",
       "    </tr>\n",
       "    <tr>\n",
       "      <th>6</th>\n",
       "      <td>2</td>\n",
       "      <td>Why is \"Happy Valentines Day\" trending? It's o...</td>\n",
       "    </tr>\n",
       "    <tr>\n",
       "      <th>7</th>\n",
       "      <td>1</td>\n",
       "      <td>They may have a SuperBowl in Dallas, but Dalla...</td>\n",
       "    </tr>\n",
       "    <tr>\n",
       "      <th>8</th>\n",
       "      <td>2</td>\n",
       "      <td>Im bringing the monster load of candy tomorrow...</td>\n",
       "    </tr>\n",
       "    <tr>\n",
       "      <th>9</th>\n",
       "      <td>2</td>\n",
       "      <td>Apple software, retail chiefs out in overhaul:...</td>\n",
       "    </tr>\n",
       "    <tr>\n",
       "      <th>10</th>\n",
       "      <td>2</td>\n",
       "      <td>#Livewire Nadal confirmed for Mexican Open in ...</td>\n",
       "    </tr>\n",
       "    <tr>\n",
       "      <th>11</th>\n",
       "      <td>2</td>\n",
       "      <td>#Iran US delisting MKO from global terrorists ...</td>\n",
       "    </tr>\n",
       "    <tr>\n",
       "      <th>12</th>\n",
       "      <td>2</td>\n",
       "      <td>Expect light-moderate rains over E. Visayas; C...</td>\n",
       "    </tr>\n",
       "    <tr>\n",
       "      <th>13</th>\n",
       "      <td>3</td>\n",
       "      <td>One ticket left for the @49ers game tomorrow! ...</td>\n",
       "    </tr>\n",
       "    <tr>\n",
       "      <th>14</th>\n",
       "      <td>2</td>\n",
       "      <td>Game 1 of the NLCS and a rematch of the NFC Ch...</td>\n",
       "    </tr>\n",
       "    <tr>\n",
       "      <th>15</th>\n",
       "      <td>3</td>\n",
       "      <td>Never start working on your dreams and goals t...</td>\n",
       "    </tr>\n",
       "    <tr>\n",
       "      <th>16</th>\n",
       "      <td>2</td>\n",
       "      <td>BLACK FRIDAY Huge Saving Aerial View of a City...</td>\n",
       "    </tr>\n",
       "    <tr>\n",
       "      <th>17</th>\n",
       "      <td>3</td>\n",
       "      <td>YES we all know INDIO vs CV is tomorrow the BE...</td>\n",
       "    </tr>\n",
       "    <tr>\n",
       "      <th>18</th>\n",
       "      <td>2</td>\n",
       "      <td>Mohamed Morsi, Egypt's Muslim Brotherhood pres...</td>\n",
       "    </tr>\n",
       "    <tr>\n",
       "      <th>19</th>\n",
       "      <td>2</td>\n",
       "      <td>C'mon Avila! You just got tagged out by a guy ...</td>\n",
       "    </tr>\n",
       "    <tr>\n",
       "      <th>20</th>\n",
       "      <td>2</td>\n",
       "      <td>At the first Grammy Awards, held on 4 May 1959...</td>\n",
       "    </tr>\n",
       "    <tr>\n",
       "      <th>21</th>\n",
       "      <td>3</td>\n",
       "      <td>Good morning Thursday. \"Life is fragile. We're...</td>\n",
       "    </tr>\n",
       "    <tr>\n",
       "      <th>22</th>\n",
       "      <td>3</td>\n",
       "      <td>#Twitition Mcfly come back to Argentina but th...</td>\n",
       "    </tr>\n",
       "    <tr>\n",
       "      <th>23</th>\n",
       "      <td>1</td>\n",
       "      <td>My teachers call themselves givng us candy.......</td>\n",
       "    </tr>\n",
       "    <tr>\n",
       "      <th>24</th>\n",
       "      <td>2</td>\n",
       "      <td>#Broncos Peyton Manning named AFC Offensive Pl...</td>\n",
       "    </tr>\n",
       "    <tr>\n",
       "      <th>25</th>\n",
       "      <td>2</td>\n",
       "      <td>@TooZany is bringing out Kendrick Lamar the 6t...</td>\n",
       "    </tr>\n",
       "    <tr>\n",
       "      <th>26</th>\n",
       "      <td>2</td>\n",
       "      <td>Andre's Wigan Warning - #COYS Official Site Wi...</td>\n",
       "    </tr>\n",
       "    <tr>\n",
       "      <th>27</th>\n",
       "      <td>2</td>\n",
       "      <td>When my professor passes out candy and says \"a...</td>\n",
       "    </tr>\n",
       "    <tr>\n",
       "      <th>28</th>\n",
       "      <td>2</td>\n",
       "      <td>How are they going to act in new york with the...</td>\n",
       "    </tr>\n",
       "    <tr>\n",
       "      <th>29</th>\n",
       "      <td>1</td>\n",
       "      <td>Homegrown talent missing on Signing Day: Throu...</td>\n",
       "    </tr>\n",
       "    <tr>\n",
       "      <th>...</th>\n",
       "      <td>...</td>\n",
       "      <td>...</td>\n",
       "    </tr>\n",
       "    <tr>\n",
       "      <th>6235</th>\n",
       "      <td>3</td>\n",
       "      <td>Yay !!!!RT @kellymonaco1: Excited to interview...</td>\n",
       "    </tr>\n",
       "    <tr>\n",
       "      <th>6236</th>\n",
       "      <td>3</td>\n",
       "      <td>@TomFelton Hope you win tonight Tom! Your US a...</td>\n",
       "    </tr>\n",
       "    <tr>\n",
       "      <th>6237</th>\n",
       "      <td>3</td>\n",
       "      <td>If I'm reading the Twitter Trend list correctl...</td>\n",
       "    </tr>\n",
       "    <tr>\n",
       "      <th>6238</th>\n",
       "      <td>3</td>\n",
       "      <td>Colts game tonight! Yay!</td>\n",
       "    </tr>\n",
       "    <tr>\n",
       "      <th>6239</th>\n",
       "      <td>2</td>\n",
       "      <td>Is this on tv again? \"@kugrlover: Most of Reds...</td>\n",
       "    </tr>\n",
       "    <tr>\n",
       "      <th>6240</th>\n",
       "      <td>3</td>\n",
       "      <td>What will have a better TV rating...#Cardinals...</td>\n",
       "    </tr>\n",
       "    <tr>\n",
       "      <th>6241</th>\n",
       "      <td>3</td>\n",
       "      <td>Yes. I'm ready for HS, college &amp; pro. Bring it...</td>\n",
       "    </tr>\n",
       "    <tr>\n",
       "      <th>6242</th>\n",
       "      <td>3</td>\n",
       "      <td>Trying to leave, I'm only 10 minutes late (so ...</td>\n",
       "    </tr>\n",
       "    <tr>\n",
       "      <th>6243</th>\n",
       "      <td>1</td>\n",
       "      <td>I fail to see why the Rams are playing TWICE o...</td>\n",
       "    </tr>\n",
       "    <tr>\n",
       "      <th>6244</th>\n",
       "      <td>2</td>\n",
       "      <td>On the night Hank Williams came to town.</td>\n",
       "    </tr>\n",
       "    <tr>\n",
       "      <th>6245</th>\n",
       "      <td>3</td>\n",
       "      <td>There won't be just a Party in the USA tonight...</td>\n",
       "    </tr>\n",
       "    <tr>\n",
       "      <th>6246</th>\n",
       "      <td>3</td>\n",
       "      <td>After that, I'll start plugging mine and @joes...</td>\n",
       "    </tr>\n",
       "    <tr>\n",
       "      <th>6247</th>\n",
       "      <td>3</td>\n",
       "      <td>Man was that Jets and Cowboys game awesome or ...</td>\n",
       "    </tr>\n",
       "    <tr>\n",
       "      <th>6248</th>\n",
       "      <td>3</td>\n",
       "      <td>MNF tonight! Let's go Sexy Rexy!</td>\n",
       "    </tr>\n",
       "    <tr>\n",
       "      <th>6249</th>\n",
       "      <td>2</td>\n",
       "      <td>Just checking in to see if I had a nightmare l...</td>\n",
       "    </tr>\n",
       "    <tr>\n",
       "      <th>6250</th>\n",
       "      <td>1</td>\n",
       "      <td>Lmao RT @HeatherNoel13: Curtis painter looks l...</td>\n",
       "    </tr>\n",
       "    <tr>\n",
       "      <th>6251</th>\n",
       "      <td>2</td>\n",
       "      <td>Monday Night Football #TeamTexans all day &amp; to...</td>\n",
       "    </tr>\n",
       "    <tr>\n",
       "      <th>6252</th>\n",
       "      <td>2</td>\n",
       "      <td>@PierreGarcon85 come out and watch THOSE GUYS ...</td>\n",
       "    </tr>\n",
       "    <tr>\n",
       "      <th>6253</th>\n",
       "      <td>3</td>\n",
       "      <td>Huge thanks to those of you who came out to my...</td>\n",
       "    </tr>\n",
       "    <tr>\n",
       "      <th>6254</th>\n",
       "      <td>1</td>\n",
       "      <td>#Londonriots is trending 3rd worldwide ..... T...</td>\n",
       "    </tr>\n",
       "    <tr>\n",
       "      <th>6255</th>\n",
       "      <td>3</td>\n",
       "      <td>I had a fun day on terra nova. Followed by a h...</td>\n",
       "    </tr>\n",
       "    <tr>\n",
       "      <th>6256</th>\n",
       "      <td>1</td>\n",
       "      <td>Today, we found out that Rob Henry tore his AC...</td>\n",
       "    </tr>\n",
       "    <tr>\n",
       "      <th>6257</th>\n",
       "      <td>3</td>\n",
       "      <td>Monday Night Football - Gary Neville did well ...</td>\n",
       "    </tr>\n",
       "    <tr>\n",
       "      <th>6258</th>\n",
       "      <td>3</td>\n",
       "      <td>Happy birthday, Hank Williams. In honor if the...</td>\n",
       "    </tr>\n",
       "    <tr>\n",
       "      <th>6259</th>\n",
       "      <td>3</td>\n",
       "      <td>New cast of DWTS tba at 8pm tonight!! So excit...</td>\n",
       "    </tr>\n",
       "    <tr>\n",
       "      <th>6260</th>\n",
       "      <td>1</td>\n",
       "      <td>@stoney16 @JeffMossDSR I'd recommend just turn...</td>\n",
       "    </tr>\n",
       "    <tr>\n",
       "      <th>6261</th>\n",
       "      <td>3</td>\n",
       "      <td>RT @MNFootNg It's monday and Monday Night Foot...</td>\n",
       "    </tr>\n",
       "    <tr>\n",
       "      <th>6262</th>\n",
       "      <td>3</td>\n",
       "      <td>All I know is the road for that Lomardi start ...</td>\n",
       "    </tr>\n",
       "    <tr>\n",
       "      <th>6263</th>\n",
       "      <td>2</td>\n",
       "      <td>All Blue and White fam, we r meeting at Golden...</td>\n",
       "    </tr>\n",
       "    <tr>\n",
       "      <th>6264</th>\n",
       "      <td>1</td>\n",
       "      <td>I'm pisseeedddd that I missed Kid Cudi's show ...</td>\n",
       "    </tr>\n",
       "  </tbody>\n",
       "</table>\n",
       "<p>6265 rows × 2 columns</p>\n",
       "</div>"
      ],
      "text/plain": [
       "      sentiment                                           document\n",
       "0             3  Gas by my house hit $3.39!!!! I'm going to Cha...\n",
       "1             1  Theo Walcott is still shit, watch Rafa and Joh...\n",
       "2             1  its not that I'm a GSP fan, i just hate Nick D...\n",
       "3             1  Iranian general says Israel's Iron Dome can't ...\n",
       "4             3  with J Davlar 11th. Main rivals are team Polan...\n",
       "5             1  Talking about ACT's && SAT's, deciding where I...\n",
       "6             2  Why is \"Happy Valentines Day\" trending? It's o...\n",
       "7             1  They may have a SuperBowl in Dallas, but Dalla...\n",
       "8             2  Im bringing the monster load of candy tomorrow...\n",
       "9             2  Apple software, retail chiefs out in overhaul:...\n",
       "10            2  #Livewire Nadal confirmed for Mexican Open in ...\n",
       "11            2  #Iran US delisting MKO from global terrorists ...\n",
       "12            2  Expect light-moderate rains over E. Visayas; C...\n",
       "13            3  One ticket left for the @49ers game tomorrow! ...\n",
       "14            2  Game 1 of the NLCS and a rematch of the NFC Ch...\n",
       "15            3  Never start working on your dreams and goals t...\n",
       "16            2  BLACK FRIDAY Huge Saving Aerial View of a City...\n",
       "17            3  YES we all know INDIO vs CV is tomorrow the BE...\n",
       "18            2  Mohamed Morsi, Egypt's Muslim Brotherhood pres...\n",
       "19            2  C'mon Avila! You just got tagged out by a guy ...\n",
       "20            2  At the first Grammy Awards, held on 4 May 1959...\n",
       "21            3  Good morning Thursday. \"Life is fragile. We're...\n",
       "22            3  #Twitition Mcfly come back to Argentina but th...\n",
       "23            1  My teachers call themselves givng us candy.......\n",
       "24            2  #Broncos Peyton Manning named AFC Offensive Pl...\n",
       "25            2  @TooZany is bringing out Kendrick Lamar the 6t...\n",
       "26            2  Andre's Wigan Warning - #COYS Official Site Wi...\n",
       "27            2  When my professor passes out candy and says \"a...\n",
       "28            2  How are they going to act in new york with the...\n",
       "29            1  Homegrown talent missing on Signing Day: Throu...\n",
       "...         ...                                                ...\n",
       "6235          3  Yay !!!!RT @kellymonaco1: Excited to interview...\n",
       "6236          3  @TomFelton Hope you win tonight Tom! Your US a...\n",
       "6237          3  If I'm reading the Twitter Trend list correctl...\n",
       "6238          3                           Colts game tonight! Yay!\n",
       "6239          2  Is this on tv again? \"@kugrlover: Most of Reds...\n",
       "6240          3  What will have a better TV rating...#Cardinals...\n",
       "6241          3  Yes. I'm ready for HS, college & pro. Bring it...\n",
       "6242          3  Trying to leave, I'm only 10 minutes late (so ...\n",
       "6243          1  I fail to see why the Rams are playing TWICE o...\n",
       "6244          2           On the night Hank Williams came to town.\n",
       "6245          3  There won't be just a Party in the USA tonight...\n",
       "6246          3  After that, I'll start plugging mine and @joes...\n",
       "6247          3  Man was that Jets and Cowboys game awesome or ...\n",
       "6248          3                   MNF tonight! Let's go Sexy Rexy!\n",
       "6249          2  Just checking in to see if I had a nightmare l...\n",
       "6250          1  Lmao RT @HeatherNoel13: Curtis painter looks l...\n",
       "6251          2  Monday Night Football #TeamTexans all day & to...\n",
       "6252          2  @PierreGarcon85 come out and watch THOSE GUYS ...\n",
       "6253          3  Huge thanks to those of you who came out to my...\n",
       "6254          1  #Londonriots is trending 3rd worldwide ..... T...\n",
       "6255          3  I had a fun day on terra nova. Followed by a h...\n",
       "6256          1  Today, we found out that Rob Henry tore his AC...\n",
       "6257          3  Monday Night Football - Gary Neville did well ...\n",
       "6258          3  Happy birthday, Hank Williams. In honor if the...\n",
       "6259          3  New cast of DWTS tba at 8pm tonight!! So excit...\n",
       "6260          1  @stoney16 @JeffMossDSR I'd recommend just turn...\n",
       "6261          3  RT @MNFootNg It's monday and Monday Night Foot...\n",
       "6262          3  All I know is the road for that Lomardi start ...\n",
       "6263          2  All Blue and White fam, we r meeting at Golden...\n",
       "6264          1  I'm pisseeedddd that I missed Kid Cudi's show ...\n",
       "\n",
       "[6265 rows x 2 columns]"
      ]
     },
     "execution_count": 13,
     "metadata": {},
     "output_type": "execute_result"
    }
   ],
   "source": [
    "data"
   ]
  },
  {
   "cell_type": "code",
   "execution_count": 14,
   "metadata": {
    "collapsed": false
   },
   "outputs": [
    {
     "data": {
      "text/plain": [
       "<matplotlib.axes._subplots.AxesSubplot at 0xbc46a58>"
      ]
     },
     "execution_count": 14,
     "metadata": {},
     "output_type": "execute_result"
    },
    {
     "data": {
      "image/png": "[encoded data removed]",
      "text/plain": [
       "<matplotlib.figure.Figure at 0xbc46550>"
      ]
     },
     "metadata": {},
     "output_type": "display_data"
    }
   ],
   "source": [
    "%matplotlib inline\n",
    "\n",
    "data.sentiment.hist()"
   ]
  },
  {
   "cell_type": "markdown",
   "metadata": {},
   "source": [
    "### Get documents and labels into more intutive names  "
   ]
  },
  {
   "cell_type": "code",
   "execution_count": 15,
   "metadata": {
    "collapsed": false
   },
   "outputs": [],
   "source": [
    "docs = data['document'] \n",
    "y = data['sentiment'] # standart name for labels/classes variable "
   ]
  },
  {
   "cell_type": "code",
   "execution_count": 16,
   "metadata": {
    "collapsed": false
   },
   "outputs": [
    {
     "data": {
      "text/plain": [
       "\"Gas by my house hit $3.39!!!! I'm going to Chapel Hill on Sat. :)\""
      ]
     },
     "execution_count": 16,
     "metadata": {},
     "output_type": "execute_result"
    }
   ],
   "source": [
    "docs[0]"
   ]
  },
  {
   "cell_type": "code",
   "execution_count": 17,
   "metadata": {
    "collapsed": false
   },
   "outputs": [
    {
     "data": {
      "text/plain": [
       "3"
      ]
     },
     "execution_count": 17,
     "metadata": {},
     "output_type": "execute_result"
    }
   ],
   "source": [
    "y[0]"
   ]
  },
  {
   "cell_type": "markdown",
   "metadata": {},
   "source": [
    "<hr>\n",
    "# Build Bag of Word model with Scikit-Learn"
   ]
  },
  {
   "cell_type": "markdown",
   "metadata": {},
   "source": [
    "## Convert a collection of text documents to a matrix of token counts"
   ]
  },
  {
   "cell_type": "markdown",
   "metadata": {},
   "source": [
    "'I like new Note IV.' -> [0, 1, 1, 1, 1, 0, 0]<br>\n",
    "'I was dissapointed by new Samsung phone.' -> [1, 0, 0, 1, 0, 1, 1]"
   ]
  },
  {
   "cell_type": "code",
   "execution_count": 18,
   "metadata": {
    "collapsed": false
   },
   "outputs": [
    {
     "name": "stdout",
     "output_type": "stream",
     "text": [
      "#features=74011 for #documents=6265\n"
     ]
    }
   ],
   "source": [
    "from sklearn.feature_extraction.text import CountVectorizer\n",
    "\n",
    "count_vect = CountVectorizer(ngram_range=(1, 2), lowercase=True, stop_words='english')\n",
    "X = count_vect.fit_transform(docs)\n",
    "\n",
    "print '#features=%s for #documents=%s' % (X.shape[1], X.shape[0])"
   ]
  },
  {
   "cell_type": "markdown",
   "metadata": {},
   "source": [
    "# Cross-Validation"
   ]
  },
  {
   "cell_type": "markdown",
   "metadata": {},
   "source": [
    "### Good practice for research"
   ]
  },
  {
   "cell_type": "markdown",
   "metadata": {},
   "source": [
    "<img src=\"cv.jpg\">"
   ]
  },
  {
   "cell_type": "code",
   "execution_count": 19,
   "metadata": {
    "collapsed": true
   },
   "outputs": [],
   "source": [
    "from sklearn import metrics, cross_validation\n",
    "from sklearn.linear_model import LogisticRegression\n",
    "\n",
    "def sentiment_classification(X, y, n_folds=10, classifier=None):\n",
    "        \"\"\"\n",
    "        Counting sentiment with cross validation - supervised method\n",
    "        :type X: ndarray feature matrix for classification\n",
    "        :type y: list or ndarray of classes\n",
    "        :type n_folds: int # of folds for CV\n",
    "        :type classifier: classifier which we train and predict sentiment\n",
    "        :return: measures: accuracy, precision, recall, f1\n",
    "        \"\"\"\n",
    "        results = {'acc': [], 'prec': [], 'rec': [], 'f1': [], 'cm': []}\n",
    "        kf = cross_validation.StratifiedKFold(y, n_folds=n_folds, shuffle=True)\n",
    "        for train_index, test_index in kf:\n",
    "            X_train, X_test = X[train_index], X[test_index]\n",
    "            y_train, y_test = y[train_index], y[test_index]\n",
    "\n",
    "            ######################## Most important part ########################## \n",
    "            clf = classifier.fit(X_train, y_train) # train the classifier \n",
    "            predicted = clf.predict(X_test) # predict test the classifier \n",
    "            #######################################################################\n",
    "\n",
    "            results['acc'].append(metrics.accuracy_score(y_test, predicted))\n",
    "            results['prec'].append(metrics.precision_score(y_test, predicted, average='weighted'))\n",
    "            results['rec'].append(metrics.recall_score(y_test, predicted, average='weighted'))\n",
    "            results['f1'].append(metrics.f1_score(y_test, predicted, average='weighted'))\n",
    "            results['cm'].append(metrics.confusion_matrix(y_test, predicted))\n",
    "\n",
    "        return results"
   ]
  },
  {
   "cell_type": "markdown",
   "metadata": {},
   "source": [
    "# Run sentiment classification "
   ]
  },
  {
   "cell_type": "code",
   "execution_count": 20,
   "metadata": {
    "collapsed": false
   },
   "outputs": [],
   "source": [
    "results = sentiment_classification(X, y, n_folds=4, classifier=LogisticRegression())"
   ]
  },
  {
   "cell_type": "code",
   "execution_count": 21,
   "metadata": {
    "collapsed": false
   },
   "outputs": [
    {
     "name": "stdout",
     "output_type": "stream",
     "text": [
      "Accuracy: 0.664167198468\n",
      "F1-measure: 0.641190369146\n"
     ]
    }
   ],
   "source": [
    "import numpy as np\n",
    "print 'Accuracy: %s' % np.mean(results['acc'])\n",
    "print 'F1-measure: %s' % np.mean(results['f1'])"
   ]
  },
  {
   "cell_type": "markdown",
   "metadata": {},
   "source": [
    "# Saving trained classfier "
   ]
  },
  {
   "cell_type": "markdown",
   "metadata": {},
   "source": [
    "## Great for production purposes!"
   ]
  },
  {
   "cell_type": "markdown",
   "metadata": {},
   "source": [
    "In the computer programming language Python, <b>pickle</b> is the standard mechanism for object serialization; pickling is the common term among Python programmers for <b>serialization</b> (unpickling for deserializing)."
   ]
  },
  {
   "cell_type": "code",
   "execution_count": 22,
   "metadata": {
    "collapsed": false
   },
   "outputs": [
    {
     "data": {
      "text/plain": [
       "LogisticRegression(C=1.0, class_weight=None, dual=False, fit_intercept=True,\n",
       "          intercept_scaling=1, max_iter=100, multi_class='ovr',\n",
       "          penalty='l2', random_state=None, solver='liblinear', tol=0.0001,\n",
       "          verbose=0)"
      ]
     },
     "execution_count": 22,
     "metadata": {},
     "output_type": "execute_result"
    }
   ],
   "source": [
    "classifier = LogisticRegression()\n",
    "clf = classifier.fit(X, y) # trained\n",
    "clf"
   ]
  },
  {
   "cell_type": "code",
   "execution_count": 23,
   "metadata": {
    "collapsed": false
   },
   "outputs": [
    {
     "data": {
      "text/plain": [
       "['sentiment-classifier.pkl',\n",
       " 'sentiment-classifier.pkl_01.npy',\n",
       " 'sentiment-classifier.pkl_02.npy',\n",
       " 'sentiment-classifier.pkl_03.npy']"
      ]
     },
     "execution_count": 23,
     "metadata": {},
     "output_type": "execute_result"
    }
   ],
   "source": [
    "from sklearn.externals import joblib\n",
    "fn_clf = 'sentiment-classifier.pkl'\n",
    "joblib.dump(clf, fn_clf)"
   ]
  },
  {
   "cell_type": "code",
   "execution_count": 24,
   "metadata": {
    "collapsed": false
   },
   "outputs": [
    {
     "name": "stdout",
     "output_type": "stream",
     "text": [
      "predictions => [3 1 1 ..., 3 2 1]\n",
      "classifier: LogisticRegression(C=1.0, class_weight=None, dual=False, fit_intercept=True,\n",
      "          intercept_scaling=1, max_iter=100, multi_class='ovr',\n",
      "          penalty='l2', random_state=None, solver='liblinear', tol=0.0001,\n",
      "          verbose=0)\n"
     ]
    }
   ],
   "source": [
    "clf_loaded = joblib.load(fn_clf)\n",
    "\n",
    "print 'predictions => %s' % clf_loaded.predict(X)\n",
    "print 'classifier: %s' % clf_loaded"
   ]
  },
  {
   "cell_type": "markdown",
   "metadata": {},
   "source": [
    "# Whole code "
   ]
  },
  {
   "cell_type": "code",
   "execution_count": 26,
   "metadata": {
    "collapsed": false
   },
   "outputs": [
    {
     "data": {
      "text/plain": [
       "['sentiment-classifier.pkl',\n",
       " 'sentiment-classifier.pkl_01.npy',\n",
       " 'sentiment-classifier.pkl_02.npy',\n",
       " 'sentiment-classifier.pkl_03.npy']"
      ]
     },
     "execution_count": 26,
     "metadata": {},
     "output_type": "execute_result"
    }
   ],
   "source": [
    "# load data\n",
    "data = pd.read_csv('C:/Users/Dell/Documents/GitHub/Presentations/sas2015/data/SemEval-2014.csv', index_col=0)\n",
    "count_vect = CountVectorizer(ngram_range=(1, 2), lowercase=True, stop_words='english')\n",
    "X = count_vect.fit_transform(data.document)\n",
    "results = sentiment_classification(X, y, n_folds=4, classifier=LogisticRegression()) \n",
    "joblib.dump(clf, 'sentiment-classifier.pkl')\n",
    "# save classifier"
   ]
  },
  {
   "cell_type": "code",
   "execution_count": null,
   "metadata": {
    "collapsed": false
   },
   "outputs": [],
   "source": [
    "print 'Accuracy: %s' % np.mean(results['acc'])\n",
    "print 'F1-measure: %s' % np.mean(results['f1'])"
   ]
  },
  {
   "cell_type": "markdown",
   "metadata": {},
   "source": [
    "# What are we doing now?"
   ]
  },
  {
   "cell_type": "markdown",
   "metadata": {},
   "source": [
    "## - Sentiment lexicons generation (English and Polish) for various product domains  \n",
    "\n",
    "## - Sentiment analysis for Polish\n",
    "\n",
    "### API for Polish text analysis (especially sentiment) - coming soon ~2-3 months"
   ]
  },
  {
   "cell_type": "markdown",
   "metadata": {},
   "source": [
    "<hr>\n",
    "# Additional clues"
   ]
  },
  {
   "cell_type": "markdown",
   "metadata": {},
   "source": [
    "## Vectorizer parameters "
   ]
  },
  {
   "cell_type": "markdown",
   "metadata": {},
   "source": [
    "### <b>min_df</b> : float in range [0.0, 1.0] or int, default=1"
   ]
  },
  {
   "cell_type": "markdown",
   "metadata": {},
   "source": [
    "When building the vocabulary ignore terms that have a <b>document frequency</b> (TF) strictly lower than the given threshold. This value is also called cut-off in the literature. \n",
    "<br><br>\n",
    "If float, the parameter represents a <b>proportion</b> of documents, integer <b>absolute</b> counts."
   ]
  },
  {
   "cell_type": "code",
   "execution_count": null,
   "metadata": {
    "collapsed": true
   },
   "outputs": [],
   "source": [
    "min_df=2"
   ]
  },
  {
   "cell_type": "code",
   "execution_count": null,
   "metadata": {
    "collapsed": false
   },
   "outputs": [],
   "source": [
    "count_vect = CountVectorizer(ngram_range=(1, 2), lowercase=True, stop_words='english', min_df=min_df)\n",
    "X = count_vect.fit_transform(docs)\n",
    "print '#features=%s for #documents=%s' % (X.shape[1], X.shape[0])"
   ]
  },
  {
   "cell_type": "markdown",
   "metadata": {},
   "source": [
    "### max_features : int or None, default=None"
   ]
  },
  {
   "cell_type": "markdown",
   "metadata": {},
   "source": [
    "Build a vocabulary that only consider the top max_features ordered by <b>term frequency</b> across the corpus."
   ]
  },
  {
   "cell_type": "code",
   "execution_count": null,
   "metadata": {
    "collapsed": true
   },
   "outputs": [],
   "source": [
    "max_features=1000"
   ]
  },
  {
   "cell_type": "code",
   "execution_count": null,
   "metadata": {
    "collapsed": false
   },
   "outputs": [],
   "source": [
    "count_vect = CountVectorizer(ngram_range=(1, 2), lowercase=True, stop_words='english', max_features=max_features)\n",
    "X = count_vect.fit_transform(docs)\n",
    "print '#features=%s for #documents=%s' % (X.shape[1], X.shape[0])"
   ]
  },
  {
   "cell_type": "markdown",
   "metadata": {},
   "source": [
    "## Check different minimum thresholds (minimum number of time a word appears in dataset)"
   ]
  },
  {
   "cell_type": "code",
   "execution_count": null,
   "metadata": {
    "collapsed": true
   },
   "outputs": [],
   "source": [
    "min_words = [1, 2, 5, 10, 100, 1000]"
   ]
  },
  {
   "cell_type": "code",
   "execution_count": null,
   "metadata": {
    "collapsed": false
   },
   "outputs": [],
   "source": [
    "features_counts = []\n",
    "\n",
    "for m in min_words:\n",
    "    docs_fitted = CountVectorizer(ngram_range=(1, 2), lowercase=True, stop_words='english', min_df=m).fit_transform(docs)\n",
    "    print '#features=%s for #documents=%s (min_df=%s)' % (docs_fitted.shape[1], docs_fitted.shape[0], m)\n",
    "    features_counts.append((m, docs_fitted.shape[1]))"
   ]
  },
  {
   "cell_type": "code",
   "execution_count": null,
   "metadata": {
    "collapsed": false
   },
   "outputs": [],
   "source": [
    "import matplotlib.pyplot as plt\n",
    "\n",
    "plt.bar(range(len(features_counts)), [x[1] for x in features_counts], align='center')\n",
    "plt.xticks(range(len(features_counts)), [x[0] for x in features_counts])\n",
    "plt.xlabel('min_df')\n",
    "plt.ylabel('#features')\n",
    "\n",
    "plt.show()"
   ]
  },
  {
   "cell_type": "markdown",
   "metadata": {},
   "source": [
    "## Use sparse matrices! Why? Time and memory complexity..."
   ]
  },
  {
   "cell_type": "code",
   "execution_count": null,
   "metadata": {
    "collapsed": false
   },
   "outputs": [],
   "source": [
    "X"
   ]
  },
  {
   "cell_type": "markdown",
   "metadata": {},
   "source": [
    "### Whole matrix will be stored in memory, do not do that!"
   ]
  },
  {
   "cell_type": "code",
   "execution_count": null,
   "metadata": {
    "collapsed": false
   },
   "outputs": [],
   "source": [
    "%timeit sentiment_classification(X, y, n_folds=4, classifier=LogisticRegression())"
   ]
  },
  {
   "cell_type": "code",
   "execution_count": null,
   "metadata": {
    "collapsed": false
   },
   "outputs": [],
   "source": [
    "X_array = X.toarray()\n",
    "%timeit sentiment_classification(X_array, y, n_folds=4, classifier=LogisticRegression())"
   ]
  },
  {
   "cell_type": "code",
   "execution_count": null,
   "metadata": {
    "collapsed": true
   },
   "outputs": [],
   "source": []
  }
 ],
 "metadata": {
  "kernelspec": {
   "display_name": "Python 2",
   "language": "python",
   "name": "python2"
  },
  "language_info": {
   "codemirror_mode": {
    "name": "ipython",
    "version": 2
   },
   "file_extension": ".py",
   "mimetype": "text/x-python",
   "name": "python",
   "nbconvert_exporter": "python",
   "pygments_lexer": "ipython2",
   "version": "2.7.8"
  }
 },
 "nbformat": 4,
 "nbformat_minor": 0
}
